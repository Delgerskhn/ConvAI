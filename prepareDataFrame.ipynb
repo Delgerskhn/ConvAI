{
 "cells": [
  {
   "cell_type": "markdown",
   "metadata": {},
   "source": [
    "Defining data frame variables "
   ]
  },
  {
   "cell_type": "code",
   "execution_count": 1,
   "metadata": {},
   "outputs": [],
   "source": [
    "import pandas as pd\n",
    "rowList = open(\"../data/train_self_original.txt\", \"r\").readlines()\n",
    "conversations = {\n",
    "    \"conv_id\": []\n",
    "}\n",
    "chats = {\n",
    "    \"conv_id\": [],\n",
    "    \"buddy1\": [],\n",
    "    \"chat_id\": [],\n",
    "    \"buddy2\": []\n",
    "}\n",
    "personals = {\n",
    "    \"persona\": [],\n",
    "    \"personaId\": [],\n",
    "    \"conv_id\": []\n",
    "}\n",
    "answers = {\n",
    "    \"conv_id\": [],\n",
    "    \"chat_id\": [],\n",
    "    \"ans_id\": [],\n",
    "    \"answer\": []\n",
    "}\n",
    "isPersona = lambda rowContext : rowContext.find(\"your persona:\")!=-1\n"
   ]
  },
  {
   "cell_type": "code",
   "execution_count": 2,
   "metadata": {},
   "outputs": [],
   "source": [
    "def parseAnswer(conv_id, chat_id, answersContext):\n",
    "    answersList = answersContext.split(\"|\")\n",
    "    for i in range(0, len(answersList)):\n",
    "        answers[\"conv_id\"].append(conv_id)\n",
    "        answers[\"chat_id\"].append(chat_id)\n",
    "        answers[\"ans_id\"].append(len(answers[\"ans_id\"])+1)\n",
    "        answers[\"answer\"].append(answersList[i])        \n"
   ]
  },
  {
   "cell_type": "code",
   "execution_count": 3,
   "metadata": {},
   "outputs": [],
   "source": [
    "def parseChat(currentContext, conv_id):\n",
    "    buddy1EndPointPattern = \"\\t\"\n",
    "    buddy1EndPoint = currentContext.index(buddy1EndPointPattern)\n",
    "    buddy2EndPointPattern =\"\\t\\t\"\n",
    "    buddy2EndPoint = currentContext.index(buddy2EndPointPattern)\n",
    "    buddy1str = currentContext[2:buddy1EndPoint]\n",
    "    chats[\"conv_id\"].append(conv_id)\n",
    "    chats[\"buddy1\"].append(buddy1str)\n",
    "    chats[\"chat_id\"].append(len(chats[\"chat_id\"])+1)\n",
    "    chats[\"buddy2\"].append(currentContext[buddy1EndPoint+len(buddy1EndPointPattern):buddy2EndPoint])\n",
    "    answersContext = currentContext[buddy2EndPoint+len(buddy2EndPointPattern):]\n",
    "    parseAnswer(conv_id, chats[\"chat_id\"][-1], answersContext)\n",
    "    \n"
   ]
  },
  {
   "cell_type": "code",
   "execution_count": 4,
   "metadata": {},
   "outputs": [],
   "source": [
    "def parsePersona(conv_id, persona):\n",
    "    personals[\"persona\"].append(slicePersona(persona))\n",
    "    personals[\"personaId\"].append(len(personals[\"personaId\"])+1)\n",
    "    personals[\"conv_id\"].append(conv_id)\n",
    "\n",
    "def slicePersona(persona) :\n",
    "    pattern = \"your persona:\"\n",
    "    prefixInd = persona.rindex(pattern)\n",
    "    retInd = persona.index(\"\\n\")\n",
    "    return persona[prefixInd+len(pattern):retInd]"
   ]
  },
  {
   "cell_type": "code",
   "execution_count": 5,
   "metadata": {},
   "outputs": [],
   "source": [
    "def parseConversation(i):\n",
    "    personaLen=0\n",
    "    personaIt = i\n",
    "    while(isPersona(rowList[personaIt]) and personaIt < len(rowList)):\n",
    "        personaLen+=1\n",
    "        personaIt+=1\n",
    "    conversations[\"conv_id\"].append(len(conversations[\"conv_id\"])+1)\n",
    "    \n",
    "    for persona in rowList[i:i+personaLen] :\n",
    "        parsePersona(conversations[\"conv_id\"][-1], persona)\n",
    "    return personaLen-1\n",
    "    "
   ]
  },
  {
   "cell_type": "markdown",
   "metadata": {},
   "source": [
    "Start converting information from txt file and creating dataframes"
   ]
  },
  {
   "cell_type": "code",
   "execution_count": 6,
   "metadata": {},
   "outputs": [],
   "source": [
    "def parseObjects():\n",
    "    skipPersona = lambda index, personaLen : index+int(personaLen)\n",
    "    i = 0\n",
    "    \n",
    "    while i < len(rowList):\n",
    "        if isPersona(rowList[i]) :\n",
    "            personaLen = parseConversation(i)\n",
    "            i = skipPersona(i, personaLen)\n",
    "        else:\n",
    "            parseChat(rowList[i], conversations[\"conv_id\"][-1])\n",
    "        i+=1"
   ]
  },
  {
   "cell_type": "code",
   "execution_count": 10,
   "metadata": {},
   "outputs": [
    {
     "name": "stdout",
     "output_type": "stream",
     "text": [
      "preparing\n"
     ]
    }
   ],
   "source": [
    "parseObjects()\n",
    "convdf = pd.DataFrame(conversations, columns=[\"conv_id\"])\n",
    "personadf = pd.DataFrame(personals, columns=[\"conv_id\", \"persona\",\"personaId\"])\n",
    "chatdf = pd.DataFrame(chats, columns=[\"conv_id\", \"buddy1\", \"chat_id\", \"buddy2\"])\n",
    "answerdf = pd.DataFrame(answers, columns = [\"conv_id\", \"chat_id\", \"ans_id\", \"answer\"])\n",
    "    \n"
   ]
  },
  {
   "cell_type": "markdown",
   "metadata": {},
   "source": [
    "Getting the most common personal informations"
   ]
  },
  {
   "cell_type": "code",
   "execution_count": 8,
   "metadata": {},
   "outputs": [
    {
     "ename": "TypeError",
     "evalue": "'NoneType' object has no attribute '__getitem__'",
     "output_type": "error",
     "traceback": [
      "\u001b[0;31m---------------------------------------------------------------------------\u001b[0m",
      "\u001b[0;31mTypeError\u001b[0m                                 Traceback (most recent call last)",
      "\u001b[0;32m<ipython-input-8-25a55aa007ad>\u001b[0m in \u001b[0;36m<module>\u001b[0;34m()\u001b[0m\n\u001b[1;32m      1\u001b[0m \u001b[0;31m# personadf\u001b[0m\u001b[0;34m\u001b[0m\u001b[0;34m\u001b[0m\u001b[0m\n\u001b[0;32m----> 2\u001b[0;31m \u001b[0mpersonadf\u001b[0m\u001b[0;34m[\u001b[0m\u001b[0;34m\"persona\"\u001b[0m\u001b[0;34m]\u001b[0m\u001b[0;34m.\u001b[0m\u001b[0mvalue_counts\u001b[0m\u001b[0;34m(\u001b[0m\u001b[0;34m)\u001b[0m\u001b[0;34m.\u001b[0m\u001b[0midxmax\u001b[0m\u001b[0;34m\u001b[0m\u001b[0m\n\u001b[0m\u001b[1;32m      3\u001b[0m \u001b[0;34m\u001b[0m\u001b[0m\n",
      "\u001b[0;31mTypeError\u001b[0m: 'NoneType' object has no attribute '__getitem__'"
     ]
    }
   ],
   "source": [
    "# personadf\n",
    "# personadf[\"persona\"].value_counts().idxmax\n",
    "\n"
   ]
  },
  {
   "cell_type": "code",
   "execution_count": null,
   "metadata": {},
   "outputs": [],
   "source": [
    "# chatdf\n",
    "# chatdf[\"buddy1\"].value_counts().idxmax\n",
    "# chatdf[\"buddy2\"].value_counts().idxmax\n"
   ]
  },
  {
   "cell_type": "code",
   "execution_count": null,
   "metadata": {},
   "outputs": [],
   "source": [
    "# answerdf"
   ]
  },
  {
   "cell_type": "code",
   "execution_count": null,
   "metadata": {},
   "outputs": [],
   "source": []
  }
 ],
 "metadata": {
  "kernelspec": {
   "display_name": "Python 2",
   "language": "python",
   "name": "python2"
  },
  "language_info": {
   "codemirror_mode": {
    "name": "ipython",
    "version": 2
   },
   "file_extension": ".py",
   "mimetype": "text/x-python",
   "name": "python",
   "nbconvert_exporter": "python",
   "pygments_lexer": "ipython2",
   "version": "2.7.10"
  }
 },
 "nbformat": 4,
 "nbformat_minor": 2
}
