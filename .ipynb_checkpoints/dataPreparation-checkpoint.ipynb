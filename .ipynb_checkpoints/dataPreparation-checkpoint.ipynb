{
 "cells": [
  {
   "cell_type": "code",
   "execution_count": 1,
   "metadata": {},
   "outputs": [],
   "source": [
    "class Conversation:\n",
    "    count = 1\n",
    "    def __init__(this):\n",
    "        this.conv_id = Conversation.count\n",
    "        Conversation.count+=1\n",
    "        this.chats = []\n",
    "        this.personals = []\n",
    "        \n",
    "    def insertPersona(this, persona):\n",
    "        this.personals.append(persona)\n",
    "        \n",
    "    def insertChat(this, chat) :\n",
    "        this.chats.append(chat)\n",
    "              "
   ]
  },
  {
   "cell_type": "code",
   "execution_count": 2,
   "metadata": {},
   "outputs": [],
   "source": [
    "class Persona:\n",
    "    count = 1\n",
    "    def __init__(this, conv_id, persona):\n",
    "        this.pers_id = Persona.count\n",
    "        Persona.count+=1\n",
    "        this.conv_id=conv_id\n",
    "        this.persona=persona"
   ]
  },
  {
   "cell_type": "code",
   "execution_count": 3,
   "metadata": {},
   "outputs": [],
   "source": [
    "class Chat:\n",
    "    count = 1\n",
    "    def __init__(this, conv_id, buddy1):\n",
    "        this.conv_id=conv_id\n",
    "        this.buddy1=buddy1\n",
    "        this.chat_id = Chat.count\n",
    "        Chat.count+=1\n",
    "        this.answers=[]\n",
    "        \n",
    "    def insertBuddy2(this, buddy2AnswerId):\n",
    "        this.buddy2AnswerId = buddy2AnswerId\n",
    "        \n",
    "    def insertAnswer(this, answer):\n",
    "        this.answers.append(answer)\n",
    "    "
   ]
  },
  {
   "cell_type": "code",
   "execution_count": 4,
   "metadata": {},
   "outputs": [],
   "source": [
    "class Answer :\n",
    "    count = 1\n",
    "    def __init__(this, conv_id, chat_id, answer):\n",
    "        this.conv_id = conv_id\n",
    "        this.chat_id = chat_id\n",
    "        this.ans_id = Answer.count\n",
    "        this.answer = answer\n",
    "        Answer.count+=1\n",
    "        \n",
    "        "
   ]
  },
  {
   "cell_type": "code",
   "execution_count": 5,
   "metadata": {},
   "outputs": [],
   "source": [
    "rowList = open(\"./data/train_self_original.txt\", \"r\").readlines()\n",
    "conversations = []\n",
    "isPersona = lambda rowContext : rowContext.find(\"your persona\")!=-1\n",
    "frames = {\n",
    "    \"conversation\": {\n",
    "        \"conv_id\": []\n",
    "    },\n",
    "    \"chat\": {\n",
    "        \"conv_id\":[],\n",
    "        \"buddy1\":[],\n",
    "        \"chat_id\": [],\n",
    "        \"buddy2AnswerId\":[]\n",
    "    },\n",
    "    \"persona\": {\n",
    "        \"persona\":[],\n",
    "        \"personaId\":[],\n",
    "        \"conv_id\":[],\n",
    "    },\n",
    "    \"answer\": {\n",
    "        \"conv_id\":[],\n",
    "        \"chat_id\":[],\n",
    "        \"ans_id\":[],\n",
    "        \"answer\":[]\n",
    "    }\n",
    "}\n"
   ]
  },
  {
   "cell_type": "code",
   "execution_count": 6,
   "metadata": {},
   "outputs": [],
   "source": [
    "def parsePersona(conversation, persona):\n",
    "    persona = Persona(conversation.conv_id, persona)\n",
    "    conversation.insertPersona(persona)\n",
    "    insertPersToFrame(persona)\n",
    "    \n",
    "def insertPersToFrame(persona):\n",
    "    frames[\"persona\"][\"persona\"].append(persona[\"persona\"])\n",
    "    frames[\"persona\"][\"personaId\"].append(persona[\"personaId\"])\n",
    "    frames[\"persona\"][\"conv_id\"].append(persona[\"conv_id\"])"
   ]
  },
  {
   "cell_type": "code",
   "execution_count": 7,
   "metadata": {},
   "outputs": [],
   "source": [
    "def parseConversation(i):\n",
    "    personaLen=0\n",
    "    personaIt = i\n",
    "    while(isPersona(rowList[personaIt]) and personaIt < len(rowList)):\n",
    "        personaLen+=1\n",
    "        personaIt+=1\n",
    "    conversation = Conversation()\n",
    "    \n",
    "    for persona in rowList[i:i+personaLen] :\n",
    "        parsePersona(conversation, persona)\n",
    "    conversations.append(conversation)\n",
    "    return personaLen-1\n",
    "def insertConvToFrame(conversation):\n",
    "    frames.conversation[\"conv_id\"].append(conversation.conv_id)\n",
    "    "
   ]
  },
  {
   "cell_type": "code",
   "execution_count": 8,
   "metadata": {},
   "outputs": [],
   "source": [
    "def parseChat(i):\n",
    "    currentContext = rowList[i]\n",
    "    currentConversation = conversations[-1]\n",
    "    buddy1EndPoint = currentContext.index(\"\\t\")\n",
    "    buddy2EndPoint = currentContext.index(\"\\t\\t\")\n",
    "    buddy1str = currentContext[0:buddy1EndPoint]\n",
    "    chat = Chat(currentConversation.conv_id, buddy1EndPoint)\n",
    "    currentConversation.insertChat(chat)\n",
    "    answersContext = currentContext[buddy2EndPoint:]\n",
    "    parseAnswer(currentConversation, chat, answersContext)\n",
    "    \n",
    "def insertChatToFrame(chat):\n",
    "    frames.chat.conv_id.append(chat.conv_id)\n",
    "    frames.chat.buddy1.append(chat.buddy1)\n",
    "    frames.chat.chat_id.append(chat.chat_id)\n",
    "    frames.chat.buddy2AnswerId.append(chat.buddy2AnswerId)"
   ]
  },
  {
   "cell_type": "code",
   "execution_count": 9,
   "metadata": {},
   "outputs": [],
   "source": [
    "def parseAnswer(conversation, chat, answersContext):\n",
    "    answersList = answersContext.split(\"|\")\n",
    "    for i in range(0, len(answersList)):\n",
    "        answer =  Answer(conversation.conv_id, chat.chat_id, answersList[i])\n",
    "        chat.insertAnswer(answer)\n",
    "        \n",
    "def insertAnsToFrame(answer):\n",
    "    frames.answer.conv_id.append(answer.conv_id)\n",
    "    frames.answer.chat_id.append(answer.chat_id)\n",
    "    frames.answer.ans_id.append(answer.ans_id)\n",
    "    frames.answer.answer.append(answer.answer)\n",
    "        \n",
    "        "
   ]
  },
  {
   "cell_type": "code",
   "execution_count": 10,
   "metadata": {},
   "outputs": [
    {
     "ename": "AttributeError",
     "evalue": "Persona instance has no attribute '__getitem__'",
     "output_type": "error",
     "traceback": [
      "\u001b[0;31m---------------------------------------------------------------------------\u001b[0m",
      "\u001b[0;31mAttributeError\u001b[0m                            Traceback (most recent call last)",
      "\u001b[0;32m<ipython-input-10-609a6e4821e0>\u001b[0m in \u001b[0;36m<module>\u001b[0;34m()\u001b[0m\n\u001b[1;32m     11\u001b[0m         \u001b[0mi\u001b[0m\u001b[0;34m+=\u001b[0m\u001b[0;36m1\u001b[0m\u001b[0;34m\u001b[0m\u001b[0m\n\u001b[1;32m     12\u001b[0m \u001b[0;34m\u001b[0m\u001b[0m\n\u001b[0;32m---> 13\u001b[0;31m \u001b[0mparseObjects\u001b[0m\u001b[0;34m(\u001b[0m\u001b[0;34m)\u001b[0m\u001b[0;34m\u001b[0m\u001b[0m\n\u001b[0m",
      "\u001b[0;32m<ipython-input-10-609a6e4821e0>\u001b[0m in \u001b[0;36mparseObjects\u001b[0;34m()\u001b[0m\n\u001b[1;32m      5\u001b[0m     \u001b[0;32mwhile\u001b[0m \u001b[0mi\u001b[0m \u001b[0;34m<\u001b[0m \u001b[0mlen\u001b[0m\u001b[0;34m(\u001b[0m\u001b[0mrowList\u001b[0m\u001b[0;34m)\u001b[0m\u001b[0;34m:\u001b[0m\u001b[0;34m\u001b[0m\u001b[0m\n\u001b[1;32m      6\u001b[0m         \u001b[0;32mif\u001b[0m \u001b[0misPersona\u001b[0m\u001b[0;34m(\u001b[0m\u001b[0mrowList\u001b[0m\u001b[0;34m[\u001b[0m\u001b[0mi\u001b[0m\u001b[0;34m]\u001b[0m\u001b[0;34m)\u001b[0m \u001b[0;34m:\u001b[0m\u001b[0;34m\u001b[0m\u001b[0m\n\u001b[0;32m----> 7\u001b[0;31m             \u001b[0mpersonaLen\u001b[0m \u001b[0;34m=\u001b[0m \u001b[0mparseConversation\u001b[0m\u001b[0;34m(\u001b[0m\u001b[0mi\u001b[0m\u001b[0;34m)\u001b[0m\u001b[0;34m\u001b[0m\u001b[0m\n\u001b[0m\u001b[1;32m      8\u001b[0m             \u001b[0mi\u001b[0m \u001b[0;34m=\u001b[0m \u001b[0mskipPersona\u001b[0m\u001b[0;34m(\u001b[0m\u001b[0mi\u001b[0m\u001b[0;34m,\u001b[0m \u001b[0mpersonaLen\u001b[0m\u001b[0;34m)\u001b[0m\u001b[0;34m\u001b[0m\u001b[0m\n\u001b[1;32m      9\u001b[0m         \u001b[0;32melse\u001b[0m\u001b[0;34m:\u001b[0m\u001b[0;34m\u001b[0m\u001b[0m\n",
      "\u001b[0;32m<ipython-input-7-a5cf6844c397>\u001b[0m in \u001b[0;36mparseConversation\u001b[0;34m(i)\u001b[0m\n\u001b[1;32m      8\u001b[0m \u001b[0;34m\u001b[0m\u001b[0m\n\u001b[1;32m      9\u001b[0m     \u001b[0;32mfor\u001b[0m \u001b[0mpersona\u001b[0m \u001b[0;32min\u001b[0m \u001b[0mrowList\u001b[0m\u001b[0;34m[\u001b[0m\u001b[0mi\u001b[0m\u001b[0;34m:\u001b[0m\u001b[0mi\u001b[0m\u001b[0;34m+\u001b[0m\u001b[0mpersonaLen\u001b[0m\u001b[0;34m]\u001b[0m \u001b[0;34m:\u001b[0m\u001b[0;34m\u001b[0m\u001b[0m\n\u001b[0;32m---> 10\u001b[0;31m         \u001b[0mparsePersona\u001b[0m\u001b[0;34m(\u001b[0m\u001b[0mconversation\u001b[0m\u001b[0;34m,\u001b[0m \u001b[0mpersona\u001b[0m\u001b[0;34m)\u001b[0m\u001b[0;34m\u001b[0m\u001b[0m\n\u001b[0m\u001b[1;32m     11\u001b[0m     \u001b[0mconversations\u001b[0m\u001b[0;34m.\u001b[0m\u001b[0mappend\u001b[0m\u001b[0;34m(\u001b[0m\u001b[0mconversation\u001b[0m\u001b[0;34m)\u001b[0m\u001b[0;34m\u001b[0m\u001b[0m\n\u001b[1;32m     12\u001b[0m     \u001b[0;32mreturn\u001b[0m \u001b[0mpersonaLen\u001b[0m\u001b[0;34m-\u001b[0m\u001b[0;36m1\u001b[0m\u001b[0;34m\u001b[0m\u001b[0m\n",
      "\u001b[0;32m<ipython-input-6-1865ce861bdf>\u001b[0m in \u001b[0;36mparsePersona\u001b[0;34m(conversation, persona)\u001b[0m\n\u001b[1;32m      2\u001b[0m     \u001b[0mpersona\u001b[0m \u001b[0;34m=\u001b[0m \u001b[0mPersona\u001b[0m\u001b[0;34m(\u001b[0m\u001b[0mconversation\u001b[0m\u001b[0;34m.\u001b[0m\u001b[0mconv_id\u001b[0m\u001b[0;34m,\u001b[0m \u001b[0mpersona\u001b[0m\u001b[0;34m)\u001b[0m\u001b[0;34m\u001b[0m\u001b[0m\n\u001b[1;32m      3\u001b[0m     \u001b[0mconversation\u001b[0m\u001b[0;34m.\u001b[0m\u001b[0minsertPersona\u001b[0m\u001b[0;34m(\u001b[0m\u001b[0mpersona\u001b[0m\u001b[0;34m)\u001b[0m\u001b[0;34m\u001b[0m\u001b[0m\n\u001b[0;32m----> 4\u001b[0;31m     \u001b[0minsertPersToFrame\u001b[0m\u001b[0;34m(\u001b[0m\u001b[0mpersona\u001b[0m\u001b[0;34m)\u001b[0m\u001b[0;34m\u001b[0m\u001b[0m\n\u001b[0m\u001b[1;32m      5\u001b[0m \u001b[0;34m\u001b[0m\u001b[0m\n\u001b[1;32m      6\u001b[0m \u001b[0;32mdef\u001b[0m \u001b[0minsertPersToFrame\u001b[0m\u001b[0;34m(\u001b[0m\u001b[0mpersona\u001b[0m\u001b[0;34m)\u001b[0m\u001b[0;34m:\u001b[0m\u001b[0;34m\u001b[0m\u001b[0m\n",
      "\u001b[0;32m<ipython-input-6-1865ce861bdf>\u001b[0m in \u001b[0;36minsertPersToFrame\u001b[0;34m(persona)\u001b[0m\n\u001b[1;32m      5\u001b[0m \u001b[0;34m\u001b[0m\u001b[0m\n\u001b[1;32m      6\u001b[0m \u001b[0;32mdef\u001b[0m \u001b[0minsertPersToFrame\u001b[0m\u001b[0;34m(\u001b[0m\u001b[0mpersona\u001b[0m\u001b[0;34m)\u001b[0m\u001b[0;34m:\u001b[0m\u001b[0;34m\u001b[0m\u001b[0m\n\u001b[0;32m----> 7\u001b[0;31m     \u001b[0mframes\u001b[0m\u001b[0;34m[\u001b[0m\u001b[0;34m\"persona\"\u001b[0m\u001b[0;34m]\u001b[0m\u001b[0;34m[\u001b[0m\u001b[0;34m\"persona\"\u001b[0m\u001b[0;34m]\u001b[0m\u001b[0;34m.\u001b[0m\u001b[0mappend\u001b[0m\u001b[0;34m(\u001b[0m\u001b[0mpersona\u001b[0m\u001b[0;34m[\u001b[0m\u001b[0;34m\"persona\"\u001b[0m\u001b[0;34m]\u001b[0m\u001b[0;34m)\u001b[0m\u001b[0;34m\u001b[0m\u001b[0m\n\u001b[0m\u001b[1;32m      8\u001b[0m     \u001b[0mframes\u001b[0m\u001b[0;34m[\u001b[0m\u001b[0;34m\"persona\"\u001b[0m\u001b[0;34m]\u001b[0m\u001b[0;34m[\u001b[0m\u001b[0;34m\"personaId\"\u001b[0m\u001b[0;34m]\u001b[0m\u001b[0;34m.\u001b[0m\u001b[0mappend\u001b[0m\u001b[0;34m(\u001b[0m\u001b[0mpersona\u001b[0m\u001b[0;34m[\u001b[0m\u001b[0;34m\"personaId\"\u001b[0m\u001b[0;34m]\u001b[0m\u001b[0;34m)\u001b[0m\u001b[0;34m\u001b[0m\u001b[0m\n\u001b[1;32m      9\u001b[0m     \u001b[0mframes\u001b[0m\u001b[0;34m[\u001b[0m\u001b[0;34m\"persona\"\u001b[0m\u001b[0;34m]\u001b[0m\u001b[0;34m[\u001b[0m\u001b[0;34m\"conv_id\"\u001b[0m\u001b[0;34m]\u001b[0m\u001b[0;34m.\u001b[0m\u001b[0mappend\u001b[0m\u001b[0;34m(\u001b[0m\u001b[0mpersona\u001b[0m\u001b[0;34m[\u001b[0m\u001b[0;34m\"conv_id\"\u001b[0m\u001b[0;34m]\u001b[0m\u001b[0;34m)\u001b[0m\u001b[0;34m\u001b[0m\u001b[0m\n",
      "\u001b[0;31mAttributeError\u001b[0m: Persona instance has no attribute '__getitem__'"
     ]
    }
   ],
   "source": [
    "def parseObjects():\n",
    "    skipPersona = lambda index, personaLen : index+int(personaLen)\n",
    "    i = 0\n",
    "    \n",
    "    while i < len(rowList):\n",
    "        if isPersona(rowList[i]) :\n",
    "            personaLen = parseConversation(i)\n",
    "            i = skipPersona(i, personaLen)\n",
    "        else:\n",
    "            parseChat(i)\n",
    "        i+=1\n",
    "\n",
    "parseObjects()\n"
   ]
  },
  {
   "cell_type": "code",
   "execution_count": null,
   "metadata": {},
   "outputs": [],
   "source": [
    "frames.persona = pd.DataFrame(frames.persona, columns = [\"persona\", \"personaId\", \"conv_id\"])\n",
    "print(frames.persona)\n",
    "\n",
    "\n"
   ]
  },
  {
   "cell_type": "code",
   "execution_count": null,
   "metadata": {},
   "outputs": [],
   "source": []
  },
  {
   "cell_type": "code",
   "execution_count": null,
   "metadata": {},
   "outputs": [],
   "source": []
  }
 ],
 "metadata": {
  "kernelspec": {
   "display_name": "Python 2",
   "language": "python",
   "name": "python2"
  },
  "language_info": {
   "codemirror_mode": {
    "name": "ipython",
    "version": 2
   },
   "file_extension": ".py",
   "mimetype": "text/x-python",
   "name": "python",
   "nbconvert_exporter": "python",
   "pygments_lexer": "ipython2",
   "version": "2.7.10"
  }
 },
 "nbformat": 4,
 "nbformat_minor": 2
}
