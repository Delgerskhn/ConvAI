{
 "cells": [
  {
   "cell_type": "markdown",
   "metadata": {},
   "source": [
    "Defining data frame variables "
   ]
  },
  {
   "cell_type": "code",
   "execution_count": 1,
   "metadata": {},
   "outputs": [],
   "source": [
    "import pandas as pd\n",
    "rowList = open(\"../data/train_self_original.txt\", \"r\").readlines()\n",
    "conversations = {\n",
    "    \"conv_id\": []\n",
    "}\n",
    "chats = {\n",
    "    \"conv_id\": [],\n",
    "    \"buddy1\": [],\n",
    "    \"chat_id\": [],\n",
    "    \"buddy2\": []\n",
    "}\n",
    "personals = {\n",
    "    \"persona\": [],\n",
    "    \"personaId\": [],\n",
    "    \"conv_id\": []\n",
    "}\n",
    "answers = {\n",
    "    \"conv_id\": [],\n",
    "    \"chat_id\": [],\n",
    "    \"ans_id\": [],\n",
    "    \"answer\": []\n",
    "}\n",
    "isPersona = lambda rowContext : rowContext.find(\"your persona:\")!=-1\n"
   ]
  },
  {
   "cell_type": "code",
   "execution_count": 2,
   "metadata": {},
   "outputs": [],
   "source": [
    "def parseAnswer(conv_id, chat_id, answersContext):\n",
    "    answersList = answersContext.split(\"|\")\n",
    "    for i in range(0, len(answersList)):\n",
    "        answers[\"conv_id\"].append(conv_id)\n",
    "        answers[\"chat_id\"].append(chat_id)\n",
    "        answers[\"ans_id\"].append(len(answers[\"ans_id\"])+1)\n",
    "        answers[\"answer\"].append(answersList[i])        \n"
   ]
  },
  {
   "cell_type": "code",
   "execution_count": 3,
   "metadata": {},
   "outputs": [],
   "source": [
    "def parseChat(currentContext, conv_id):\n",
    "    buddy1EndPointPattern = \"\\t\"\n",
    "    buddy1EndPoint = currentContext.index(buddy1EndPointPattern)\n",
    "    buddy2EndPointPattern =\"\\t\\t\"\n",
    "    buddy2EndPoint = currentContext.index(buddy2EndPointPattern)\n",
    "    buddy1str = currentContext[2:buddy1EndPoint]\n",
    "    chats[\"conv_id\"].append(conv_id)\n",
    "    chats[\"buddy1\"].append(buddy1str)\n",
    "    chats[\"chat_id\"].append(len(chats[\"chat_id\"])+1)\n",
    "    chats[\"buddy2\"].append(currentContext[buddy1EndPoint+len(buddy1EndPointPattern):buddy2EndPoint])\n",
    "    answersContext = currentContext[buddy2EndPoint+len(buddy2EndPointPattern):]\n",
    "    parseAnswer(conv_id, chats[\"chat_id\"][-1], answersContext)\n",
    "    \n"
   ]
  },
  {
   "cell_type": "code",
   "execution_count": 4,
   "metadata": {},
   "outputs": [],
   "source": [
    "def parsePersona(conv_id, persona):\n",
    "    personals[\"persona\"].append(slicePersona(persona))\n",
    "    personals[\"personaId\"].append(len(personals[\"personaId\"])+1)\n",
    "    personals[\"conv_id\"].append(conv_id)\n",
    "\n",
    "def slicePersona(persona) :\n",
    "    pattern = \"your persona:\"\n",
    "    prefixInd = persona.rindex(pattern)\n",
    "    retInd = persona.index(\"\\n\")\n",
    "    return persona[prefixInd+len(pattern):retInd]"
   ]
  },
  {
   "cell_type": "code",
   "execution_count": 5,
   "metadata": {},
   "outputs": [],
   "source": [
    "def parseConversation(i):\n",
    "    personaLen=0\n",
    "    personaIt = i\n",
    "    while(isPersona(rowList[personaIt]) and personaIt < len(rowList)):\n",
    "        personaLen+=1\n",
    "        personaIt+=1\n",
    "    conversations[\"conv_id\"].append(len(conversations[\"conv_id\"])+1)\n",
    "    \n",
    "    for persona in rowList[i:i+personaLen] :\n",
    "        parsePersona(conversations[\"conv_id\"][-1], persona)\n",
    "    return personaLen-1\n",
    "    "
   ]
  },
  {
   "cell_type": "markdown",
   "metadata": {},
   "source": [
    "Start converting information from txt file and creating dataframes"
   ]
  },
  {
   "cell_type": "code",
   "execution_count": 6,
   "metadata": {},
   "outputs": [],
   "source": [
    "def parseObjects():\n",
    "    skipPersona = lambda index, personaLen : index+int(personaLen)\n",
    "    i = 0\n",
    "    \n",
    "    while i < len(rowList):\n",
    "        if isPersona(rowList[i]) :\n",
    "            personaLen = parseConversation(i)\n",
    "            i = skipPersona(i, personaLen)\n",
    "        else:\n",
    "            parseChat(rowList[i], conversations[\"conv_id\"][-1])\n",
    "        i+=1\n",
    "\n",
    "parseObjects()\n",
    "convdf = pd.DataFrame(conversations, columns=[\"conv_id\"])\n",
    "personadf = pd.DataFrame(personals, columns=[\"conv_id\", \"persona\",\"personaId\"])\n",
    "chatdf = pd.DataFrame(chats, columns=[\"conv_id\", \"buddy1\", \"chat_id\", \"buddy2\"])\n",
    "answerdf = pd.DataFrame(answers, columns = [\"conv_id\", \"chat_id\", \"ans_id\", \"answer\"])"
   ]
  },
  {
   "cell_type": "markdown",
   "metadata": {},
   "source": [
    "Getting the most common personal informations"
   ]
  },
  {
   "cell_type": "code",
   "execution_count": 14,
   "metadata": {},
   "outputs": [
    {
     "data": {
      "text/plain": [
       "<bound method Series.idxmax of  my favorite color is blue.                                                    225\n",
       " my favorite food is pizza.                                                    168\n",
       " i am a vegan.                                                                 116\n",
       " i love animals.                                                               110\n",
       " i like to read.                                                               109\n",
       " my favorite color is red.                                                     108\n",
       " i'm a vegan.                                                                  104\n",
       " i love dogs.                                                                   93\n",
       " my favorite color is purple.                                                   92\n",
       " i love to travel.                                                              86\n",
       " i love to read.                                                                85\n",
       " i like to cook.                                                                82\n",
       " i'm married.                                                                   71\n",
       " i love to sing.                                                                65\n",
       " i live alone.                                                                  63\n",
       " i like to play video games.                                                    62\n",
       " my favorite color is orange.                                                   60\n",
       " i enjoy reading.                                                               60\n",
       " my favorite color is yellow.                                                   58\n",
       " i like to draw.                                                                57\n",
       " i love to dance.                                                               57\n",
       " i enjoy fishing.                                                               54\n",
       " i play football.                                                               53\n",
       " my favorite flower is a rose.                                                  52\n",
       " i'm an only child.                                                             52\n",
       " i'm a vegetarian.                                                              51\n",
       " i am a vegetarian.                                                             50\n",
       " i love chocolate.                                                              50\n",
       " my favorite food is steak.                                                     50\n",
       " i love country music.                                                          49\n",
       "                                                                              ... \n",
       " i am studying to be a dental hygienist but i hate seeing patient s saliva.      1\n",
       " i want people to think i am cool.                                               1\n",
       " i have been married for five years.                                             1\n",
       " i've a younger sibling.                                                         1\n",
       " i want a dog , but that's a lot of commitment.                                  1\n",
       " i do not really like vegetables or fruit but i pretend.                         1\n",
       " i'm a night owl , but i'm an introvert so i don't go out much or anything.      1\n",
       " i drive a honda that's seen better days.                                        1\n",
       " i am a youtube.                                                                 1\n",
       " i'm bloated.                                                                    1\n",
       " i own a pug , and he's the most loyal pet you will ever have.                   1\n",
       " until recently i've never been able to sing in front of anyone.                 1\n",
       " if things aren't done right i will redo them again and again.                   1\n",
       " i'm a college drop out.                                                         1\n",
       " i believe the rich should not be taxed as much.                                 1\n",
       " i'm a judge in the circuit court.                                               1\n",
       " i wish i didn't have to work.                                                   1\n",
       " i still like unicorns even though i am an adult.                                1\n",
       " i haven t had to work a day in my life.                                         1\n",
       " i sometimes wonder why i'm not married.                                         1\n",
       " i am deathly afraid of snakes , but not bugs.                                   1\n",
       " i'm getting married in six months.                                              1\n",
       " i do not treat my girlfriend very well.                                         1\n",
       " i think i'm fabulous.                                                           1\n",
       " i have never done drugs because i don't know where to buy them.                 1\n",
       " i am looking forward to reading the latest political thriller.                  1\n",
       " i have owned two mustangs.                                                      1\n",
       " i am a college drop out.                                                        1\n",
       " i do not have a relationship with my deadbeat dad.                              1\n",
       " i am a photographer.                                                            1\n",
       "Name: persona, Length: 6097, dtype: int64>"
      ]
     },
     "execution_count": 14,
     "metadata": {},
     "output_type": "execute_result"
    }
   ],
   "source": [
    "# personadf\n",
    "personadf[\"persona\"].value_counts().idxmax\n"
   ]
  },
  {
   "cell_type": "code",
   "execution_count": 13,
   "metadata": {},
   "outputs": [
    {
     "data": {
      "text/plain": [
       "<bound method Series.idxmax of what do you do for a living ?                                                     195\n",
       "hi how are you today                                                              147\n",
       "hi how are you today ?                                                             83\n",
       "do you have any hobbies ?                                                          78\n",
       "how are you doing today                                                            76\n",
       "hi how are you doing                                                               73\n",
       "hello how are you today ?                                                          72\n",
       "hello , how are you today ?                                                        72\n",
       "hi how are you doing ?                                                             70\n",
       "what city are you from ?                                                           59\n",
       "what do you do for work ?                                                          57\n",
       "hi , how are you today ?                                                           55\n",
       "how are you doing today ?                                                          54\n",
       "do you have any pets ?                                                             50\n",
       "hello , how are you tonight ?                                                      47\n",
       "hi there , how are you ?                                                           43\n",
       "hello , how are you doing today ?                                                  41\n",
       "hello ! how are you today ?                                                        33\n",
       "hello , how are you doing ?                                                        30\n",
       "what do you do for fun ?                                                           30\n",
       "do you have any kids ?                                                             29\n",
       "hello how are you today                                                            27\n",
       "hi , how are you doing ?                                                           27\n",
       "hi ! how are you today ?                                                           27\n",
       "i am good thanks for asking                                                        26\n",
       "hi , how are you doing today ?                                                     26\n",
       "what do you like to do for fun ?                                                   25\n",
       "what do you do for a living                                                        25\n",
       "hello                                                                              24\n",
       "i'm good thanks for asking                                                         23\n",
       "                                                                                 ... \n",
       "my vision is fairly poor as well . but i can see super great up close .             1\n",
       "i'm a football coach .                                                              1\n",
       "not too dramatic . i'm a pretty calm person . surfing helps me to relax .           1\n",
       "sometimes , but my mom is a great baker . she makes me lots of great treats !       1\n",
       "that sounds like alot of fun                                                        1\n",
       "i highly recommend that . yoga and sports .                                         1\n",
       "very nice ! we just purchased a new home here in oregon , portland                  1\n",
       "actually , i'm all caught up in the current season                                  1\n",
       "hi , how are you today ? do you have a hobby ?                                      1\n",
       "its my life story sort of . my mom and dad died in a car wreck .                    1\n",
       "hello , tell me something you don't like about yourself ?                           1\n",
       "what am i gonna buy next ? a soul ? someone elses                                   1\n",
       "i've a great spot for riding , even put a bridge over the creek                     1\n",
       "nice i typically like horror but hard finding a good movie in the genre             1\n",
       "everyone must make a living , a good one if you want to live well .                 1\n",
       "hi , i'm a homemaker how about you ?                                                1\n",
       "i don't work but i get up early                                                     1\n",
       "oh cool ! ! that's awesome , do you do anything else for work ?                     1\n",
       "that sounds like a lovely cat . i love to garden .                                  1\n",
       "hey ! just feeling like riding my skateboard all weekend . you ?                    1\n",
       "the police officers have a sports team ?                                            1\n",
       "can you smell me from there ?                                                       1\n",
       "i've 3 kids . i dot know sleep                                                      1\n",
       "i also cook ethnic foods mainly greek dishes                                        1\n",
       "very cool i make a living playing in a band                                         1\n",
       "oh , actually just putting together a small gift for my folks ; how bout you ?      1\n",
       "if we are gonna watch tv gonna have to multi task trig test coming up .             1\n",
       "that seems very odd . i had a great childhood .                                     1\n",
       "really ? ! that's awesome give me a reading ?                                       1\n",
       "i am so very very tired                                                             1\n",
       "Name: buddy2, Length: 94737, dtype: int64>"
      ]
     },
     "execution_count": 13,
     "metadata": {},
     "output_type": "execute_result"
    }
   ],
   "source": [
    "# chatdf\n",
    "# chatdf[\"buddy1\"].value_counts().idxmax\n",
    "chatdf[\"buddy2\"].value_counts().idxmax\n"
   ]
  },
  {
   "cell_type": "code",
   "execution_count": 9,
   "metadata": {},
   "outputs": [],
   "source": [
    "# answerdf"
   ]
  },
  {
   "cell_type": "code",
   "execution_count": null,
   "metadata": {},
   "outputs": [],
   "source": []
  }
 ],
 "metadata": {
  "kernelspec": {
   "display_name": "Python 2",
   "language": "python",
   "name": "python2"
  },
  "language_info": {
   "codemirror_mode": {
    "name": "ipython",
    "version": 2
   },
   "file_extension": ".py",
   "mimetype": "text/x-python",
   "name": "python",
   "nbconvert_exporter": "python",
   "pygments_lexer": "ipython2",
   "version": "2.7.10"
  }
 },
 "nbformat": 4,
 "nbformat_minor": 2
}
