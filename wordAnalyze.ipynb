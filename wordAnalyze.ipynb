{
 "cells": [
  {
   "cell_type": "code",
   "execution_count": null,
   "metadata": {},
   "outputs": [],
   "source": []
  },
  {
   "cell_type": "code",
   "execution_count": 27,
   "metadata": {},
   "outputs": [],
   "source": [
    "import pandas as pd\n"
   ]
  },
  {
   "cell_type": "code",
   "execution_count": 46,
   "metadata": {},
   "outputs": [],
   "source": [
    "def wordFreqAnalyze(df, wordColumn):\n",
    "    words = {}\n",
    "    if(wordColumn not in df):\n",
    "        return {\n",
    "            \"error\": \"df not contain wordColumn\"\n",
    "        }\n",
    "    for index, row in df.iterrows():\n",
    "        wordArray = row[wordColumn].split(\" \")\n",
    "        for word in wordArray:\n",
    "            if (len(word) <= 0):\n",
    "                continue\n",
    "            if word in words:\n",
    "                words[word] += 1\n",
    "            else:\n",
    "                words[word] = 1\n",
    "\n",
    "\n",
    "    worddf = pd.DataFrame({wordColumn: words.keys(), \"count\":words.values()})\n",
    "    return {\n",
    "        \"df\": worddf,\n",
    "        \"histogram\": worddf.hist(column=\"count\", bins=50, edgecolor=\"red\")\n",
    "    }"
   ]
  },
  {
   "cell_type": "code",
   "execution_count": 31,
   "metadata": {},
   "outputs": [],
   "source": []
  },
  {
   "cell_type": "code",
   "execution_count": null,
   "metadata": {},
   "outputs": [],
   "source": []
  },
  {
   "cell_type": "code",
   "execution_count": null,
   "metadata": {},
   "outputs": [],
   "source": []
  }
 ],
 "metadata": {
  "kernelspec": {
   "display_name": "Python 3",
   "language": "python",
   "name": "python3"
  },
  "language_info": {
   "codemirror_mode": {
    "name": "ipython",
    "version": 3
   },
   "file_extension": ".py",
   "mimetype": "text/x-python",
   "name": "python",
   "nbconvert_exporter": "python",
   "pygments_lexer": "ipython3",
   "version": "3.8.6rc1"
  }
 },
 "nbformat": 4,
 "nbformat_minor": 4
}
