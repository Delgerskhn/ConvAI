{
 "cells": [
  {
   "cell_type": "markdown",
   "metadata": {},
   "source": [
    "Goal"
   ]
  },
  {
   "cell_type": "code",
   "execution_count": 1,
   "metadata": {},
   "outputs": [
    {
     "data": {
      "text/plain": [
       "'\\nPersona based analysis\\n\\nTo get to know persone\\n\\nunique persona count\\n\\ntable uusgene \\n\\npersona name // count\\n\\nPersona count histogram\\n\\ngraphic zurah \\n\\nhistogram sudlah\\n\\nUse pandas matplotlib\\n\\nCleanse special characters\\n'"
      ]
     },
     "execution_count": 1,
     "metadata": {},
     "output_type": "execute_result"
    }
   ],
   "source": [
    "\"\"\"\n",
    "Persona based analysis\n",
    "\n",
    "To get to know persone\n",
    "\n",
    "unique persona count\n",
    "\n",
    "table uusgene \n",
    "\n",
    "persona name // count\n",
    "\n",
    "Persona count histogram\n",
    "\n",
    "graphic zurah \n",
    "\n",
    "histogram sudlah\n",
    "\n",
    "Use pandas matplotlib\n",
    "\n",
    "Cleanse special characters\n",
    "\"\"\"\n"
   ]
  },
  {
   "cell_type": "code",
   "execution_count": 2,
   "metadata": {},
   "outputs": [
    {
     "name": "stdout",
     "output_type": "stream",
     "text": [
      "importing Jupyter notebook from prepareDataFrame.ipynb\n"
     ]
    }
   ],
   "source": [
    "import import_ipynb\n",
    "import prepareDataFrame\n"
   ]
  },
  {
   "cell_type": "code",
   "execution_count": 18,
   "metadata": {},
   "outputs": [
    {
     "data": {
      "text/plain": [
       "array([[<AxesSubplot:title={'center':'count'}>]], dtype=object)"
      ]
     },
     "execution_count": 18,
     "metadata": {},
     "output_type": "execute_result"
    },
    {
     "data": {
      "image/png": "[encoded data removed]",
      "text/plain": [
       "<Figure size 432x288 with 1 Axes>"
      ]
     },
     "metadata": {
      "needs_background": "light"
     },
     "output_type": "display_data"
    }
   ],
   "source": [
    "from matplotlib import pyplot as plt\n",
    "personaCountDF = prepareDataFrame.personadf[\"persona\"].value_counts().reset_index()\n",
    "personaCountDF.rename(columns={'index': 'persona', 'persona': 'count'}, inplace=True)\n",
    "personaCountDF.hist( bins=10, edgecolor=\"black\")\n"
   ]
  },
  {
   "cell_type": "code",
   "execution_count": null,
   "metadata": {},
   "outputs": [],
   "source": []
  },
  {
   "cell_type": "code",
   "execution_count": null,
   "metadata": {},
   "outputs": [],
   "source": []
  },
  {
   "cell_type": "code",
   "execution_count": null,
   "metadata": {},
   "outputs": [],
   "source": []
  }
 ],
 "metadata": {
  "kernelspec": {
   "display_name": "Python 3",
   "language": "python",
   "name": "python3"
  },
  "language_info": {
   "codemirror_mode": {
    "name": "ipython",
    "version": 3
   },
   "file_extension": ".py",
   "mimetype": "text/x-python",
   "name": "python",
   "nbconvert_exporter": "python",
   "pygments_lexer": "ipython3",
   "version": "3.8.6rc1"
  }
 },
 "nbformat": 4,
 "nbformat_minor": 2
}
